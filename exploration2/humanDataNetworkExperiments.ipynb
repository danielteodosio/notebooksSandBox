{
 "cells": [
  {
   "cell_type": "code",
   "execution_count": 64,
   "metadata": {},
   "outputs": [],
   "source": [
    "import numpy as np\n",
    "import pandas as pd\n",
    "import matplotlib.pyplot as plt\n",
    "import tensorflow as tf\n",
    "from tensorflow import keras\n",
    "from sklearn.datasets import fetch_california_housing\n",
    "from sklearn.model_selection import train_test_split\n",
    "from sklearn.preprocessing import StandardScaler\n",
    "import pickle\n"
   ]
  },
  {
   "cell_type": "code",
   "execution_count": 65,
   "metadata": {},
   "outputs": [],
   "source": [
    "#utils\n",
    "\n",
    "def carregar_pickle(nome_arquivo):\n",
    "  with open(nome_arquivo, 'rb') as arquivo:\n",
    "    objeto = pickle.load(arquivo)\n",
    "  return objeto"
   ]
  },
  {
   "cell_type": "code",
   "execution_count": 66,
   "metadata": {},
   "outputs": [],
   "source": [
    "raw_data_set = carregar_pickle('dataset_human_v2.pkl')\n",
    "input_full = raw_data_set['inputs']\n",
    "output_full = raw_data_set['outputs']\n",
    "sequences_full = raw_data_set['sequences']"
   ]
  },
  {
   "cell_type": "code",
   "execution_count": 16,
   "metadata": {},
   "outputs": [
    {
     "data": {
      "text/plain": [
       "(106, 54, 16)"
      ]
     },
     "execution_count": 16,
     "metadata": {},
     "output_type": "execute_result"
    }
   ],
   "source": [
    "input_full.shape"
   ]
  },
  {
   "cell_type": "code",
   "execution_count": 67,
   "metadata": {},
   "outputs": [],
   "source": [
    "input_train, input_test, output_train, output_test, sequence_train, sequence_test = train_test_split(input_full, output_full, \n",
    "sequences_full, train_size=0.75 , shuffle= True, random_state = 0);"
   ]
  },
  {
   "cell_type": "code",
   "execution_count": 158,
   "metadata": {},
   "outputs": [
    {
     "data": {
      "text/plain": [
       "(79, 54, 16)"
      ]
     },
     "execution_count": 158,
     "metadata": {},
     "output_type": "execute_result"
    }
   ],
   "source": [
    "input_train.shape"
   ]
  },
  {
   "cell_type": "code",
   "execution_count": 69,
   "metadata": {},
   "outputs": [],
   "source": [
    "#utils\n",
    "\n",
    "def myClassify(array, corte):\n",
    "    classifiedArray = []\n",
    "    for x in array:\n",
    "        if(x > corte):\n",
    "            classifiedArray.append(1)\n",
    "        else:\n",
    "            classifiedArray.append(0)\n",
    "    \n",
    "    return classifiedArray\n",
    "\n",
    "\n",
    "def comparePredictOkNok(arrPredict, arrReal, size):\n",
    "    arrOkNok = []\n",
    "    for i in range(0, size):\n",
    "        if(arrPredict[i] == arrReal[i]):\n",
    "            arrOkNok.append('OK')\n",
    "        else:\n",
    "            arrOkNok.append('NOK')\n",
    "    \n",
    "    return arrOkNok\n",
    "\n",
    "        \n"
   ]
  },
  {
   "cell_type": "code",
   "execution_count": 110,
   "metadata": {},
   "outputs": [
    {
     "data": {
      "text/plain": [
       "(16, 54)"
      ]
     },
     "execution_count": 110,
     "metadata": {},
     "output_type": "execute_result"
    }
   ],
   "source": [
    "input_train[0].shape"
   ]
  },
  {
   "cell_type": "code",
   "execution_count": 70,
   "metadata": {},
   "outputs": [],
   "source": [
    "CNN = keras.Sequential()\n",
    "CNN.add(keras.layers.Conv1D(10, kernel_size= 1, strides= 1, padding='valid', \n",
    "                            activation='relu', input_shape = (54, 16), use_bias= False))\n",
    "#CNN.add(keras.layers.AveragePooling1D(pool_size=2, strides= 1, padding='valid'))\n",
    "CNN.add(keras.layers.Flatten())\n",
    "CNN.add(keras.layers.Dense(256, activation='relu'))\n",
    "CNN.add(keras.layers.Dense(64, activation='relu'))\n",
    "CNN.add(keras.layers.Dense(10, activation='relu'))\n",
    "CNN.add(keras.layers.Dense(1, activation='sigmoid'))\n",
    "\n"
   ]
  },
  {
   "cell_type": "code",
   "execution_count": 71,
   "metadata": {},
   "outputs": [
    {
     "name": "stdout",
     "output_type": "stream",
     "text": [
      "Model: \"sequential_5\"\n",
      "_________________________________________________________________\n",
      " Layer (type)                Output Shape              Param #   \n",
      "=================================================================\n",
      " conv1d_5 (Conv1D)           (None, 54, 10)            160       \n",
      "                                                                 \n",
      " flatten_5 (Flatten)         (None, 540)               0         \n",
      "                                                                 \n",
      " dense_20 (Dense)            (None, 256)               138496    \n",
      "                                                                 \n",
      " dense_21 (Dense)            (None, 64)                16448     \n",
      "                                                                 \n",
      " dense_22 (Dense)            (None, 10)                650       \n",
      "                                                                 \n",
      " dense_23 (Dense)            (None, 1)                 11        \n",
      "                                                                 \n",
      "=================================================================\n",
      "Total params: 155,765\n",
      "Trainable params: 155,765\n",
      "Non-trainable params: 0\n",
      "_________________________________________________________________\n"
     ]
    }
   ],
   "source": [
    "CNN.summary();\n",
    "keras.utils.plot_model(CNN);"
   ]
  },
  {
   "cell_type": "code",
   "execution_count": 72,
   "metadata": {},
   "outputs": [],
   "source": [
    "CNN.compile(loss=keras.losses.BinaryCrossentropy(reduction='sum_over_batch_size'), metrics=['accuracy'])"
   ]
  },
  {
   "cell_type": "code",
   "execution_count": 73,
   "metadata": {},
   "outputs": [
    {
     "name": "stdout",
     "output_type": "stream",
     "text": [
      "Epoch 1/50\n",
      "79/79 [==============================] - 2s 6ms/step - loss: 0.7128 - accuracy: 0.5190\n",
      "Epoch 2/50\n",
      "79/79 [==============================] - 1s 7ms/step - loss: 0.4054 - accuracy: 0.8101\n",
      "Epoch 3/50\n",
      "79/79 [==============================] - 1s 7ms/step - loss: 0.1503 - accuracy: 0.9494\n",
      "Epoch 4/50\n",
      "79/79 [==============================] - 1s 11ms/step - loss: 0.0271 - accuracy: 0.9873\n",
      "Epoch 5/50\n",
      "79/79 [==============================] - 1s 10ms/step - loss: 0.0032 - accuracy: 1.0000\n",
      "Epoch 6/50\n",
      "79/79 [==============================] - 1s 7ms/step - loss: 0.0046 - accuracy: 1.0000\n",
      "Epoch 7/50\n",
      "79/79 [==============================] - 1s 7ms/step - loss: 1.0172e-04 - accuracy: 1.0000\n",
      "Epoch 8/50\n",
      "79/79 [==============================] - 1s 10ms/step - loss: 0.0021 - accuracy: 1.0000\n",
      "Epoch 9/50\n",
      "79/79 [==============================] - 1s 7ms/step - loss: 3.4568e-06 - accuracy: 1.0000\n",
      "Epoch 10/50\n",
      "79/79 [==============================] - 1s 7ms/step - loss: 6.6768e-07 - accuracy: 1.0000\n",
      "Epoch 11/50\n",
      "79/79 [==============================] - 1s 7ms/step - loss: 6.6775e-08 - accuracy: 1.0000\n",
      "Epoch 12/50\n",
      "79/79 [==============================] - 1s 9ms/step - loss: 5.2928e-09 - accuracy: 1.0000\n",
      "Epoch 13/50\n",
      "79/79 [==============================] - 1s 9ms/step - loss: 3.7111e-09 - accuracy: 1.0000\n",
      "Epoch 14/50\n",
      "79/79 [==============================] - 1s 6ms/step - loss: 3.8042e-09 - accuracy: 1.0000\n",
      "Epoch 15/50\n",
      "79/79 [==============================] - 1s 13ms/step - loss: 1.9906e-09 - accuracy: 1.0000\n",
      "Epoch 16/50\n",
      "79/79 [==============================] - 1s 7ms/step - loss: 2.1584e-09 - accuracy: 1.0000\n",
      "Epoch 17/50\n",
      "79/79 [==============================] - 1s 11ms/step - loss: 1.8752e-09 - accuracy: 1.0000\n",
      "Epoch 18/50\n",
      "79/79 [==============================] - 1s 8ms/step - loss: 1.0957e-09 - accuracy: 1.0000\n",
      "Epoch 19/50\n",
      "79/79 [==============================] - 1s 7ms/step - loss: 1.1263e-09 - accuracy: 1.0000\n",
      "Epoch 20/50\n",
      "79/79 [==============================] - 1s 7ms/step - loss: 1.2144e-09 - accuracy: 1.0000\n",
      "Epoch 21/50\n",
      "79/79 [==============================] - 1s 8ms/step - loss: 1.2911e-09 - accuracy: 1.0000\n",
      "Epoch 22/50\n",
      "79/79 [==============================] - 1s 7ms/step - loss: 1.4019e-09 - accuracy: 1.0000\n",
      "Epoch 23/50\n",
      "79/79 [==============================] - 1s 7ms/step - loss: 1.4746e-09 - accuracy: 1.0000\n",
      "Epoch 24/50\n",
      "79/79 [==============================] - 1s 7ms/step - loss: 1.5483e-09 - accuracy: 1.0000\n",
      "Epoch 25/50\n",
      "79/79 [==============================] - 1s 9ms/step - loss: 1.6085e-09 - accuracy: 1.0000\n",
      "Epoch 26/50\n",
      "79/79 [==============================] - 1s 8ms/step - loss: 1.6791e-09 - accuracy: 1.0000\n",
      "Epoch 27/50\n",
      "79/79 [==============================] - 1s 7ms/step - loss: 1.7640e-09 - accuracy: 1.0000\n",
      "Epoch 28/50\n",
      "79/79 [==============================] - 1s 7ms/step - loss: 1.8145e-09 - accuracy: 1.0000\n",
      "Epoch 29/50\n",
      "79/79 [==============================] - 1s 10ms/step - loss: 1.8897e-09 - accuracy: 1.0000\n",
      "Epoch 30/50\n",
      "79/79 [==============================] - 1s 7ms/step - loss: 1.9647e-09 - accuracy: 1.0000\n",
      "Epoch 31/50\n",
      "79/79 [==============================] - 1s 8ms/step - loss: 2.0302e-09 - accuracy: 1.0000\n",
      "Epoch 32/50\n",
      "79/79 [==============================] - 1s 7ms/step - loss: 2.0911e-09 - accuracy: 1.0000\n",
      "Epoch 33/50\n",
      "79/79 [==============================] - 1s 8ms/step - loss: 2.1557e-09 - accuracy: 1.0000\n",
      "Epoch 34/50\n",
      "79/79 [==============================] - 1s 10ms/step - loss: 2.2277e-09 - accuracy: 1.0000\n",
      "Epoch 35/50\n",
      "79/79 [==============================] - 1s 7ms/step - loss: 2.2788e-09 - accuracy: 1.0000\n",
      "Epoch 36/50\n",
      "79/79 [==============================] - 1s 8ms/step - loss: 2.3267e-09 - accuracy: 1.0000\n",
      "Epoch 37/50\n",
      "79/79 [==============================] - 1s 7ms/step - loss: 2.4041e-09 - accuracy: 1.0000\n",
      "Epoch 38/50\n",
      "79/79 [==============================] - 1s 9ms/step - loss: 2.4688e-09 - accuracy: 1.0000\n",
      "Epoch 39/50\n",
      "79/79 [==============================] - 1s 7ms/step - loss: 2.5226e-09 - accuracy: 1.0000\n",
      "Epoch 40/50\n",
      "79/79 [==============================] - 1s 7ms/step - loss: 2.6036e-09 - accuracy: 1.0000\n",
      "Epoch 41/50\n",
      "79/79 [==============================] - 1s 7ms/step - loss: 2.6535e-09 - accuracy: 1.0000\n",
      "Epoch 42/50\n",
      "79/79 [==============================] - 1s 8ms/step - loss: 2.7266e-09 - accuracy: 1.0000\n",
      "Epoch 43/50\n",
      "79/79 [==============================] - 1s 9ms/step - loss: 2.7779e-09 - accuracy: 1.0000\n",
      "Epoch 44/50\n",
      "79/79 [==============================] - 1s 7ms/step - loss: 2.8596e-09 - accuracy: 1.0000\n",
      "Epoch 45/50\n",
      "79/79 [==============================] - 1s 7ms/step - loss: 2.9219e-09 - accuracy: 1.0000\n",
      "Epoch 46/50\n",
      "79/79 [==============================] - 1s 7ms/step - loss: 2.9767e-09 - accuracy: 1.0000\n",
      "Epoch 47/50\n",
      "79/79 [==============================] - 1s 7ms/step - loss: 3.0392e-09 - accuracy: 1.0000\n",
      "Epoch 48/50\n",
      "79/79 [==============================] - 1s 10ms/step - loss: 1.4655e-09 - accuracy: 1.0000\n",
      "Epoch 49/50\n",
      "79/79 [==============================] - 1s 7ms/step - loss: 6.4955e-10 - accuracy: 1.0000\n",
      "Epoch 50/50\n",
      "79/79 [==============================] - 1s 7ms/step - loss: 6.6318e-10 - accuracy: 1.0000\n"
     ]
    },
    {
     "data": {
      "text/plain": [
       "<keras.callbacks.History at 0x2038a39c9d0>"
      ]
     },
     "execution_count": 73,
     "metadata": {},
     "output_type": "execute_result"
    }
   ],
   "source": [
    "CNN.fit(input_train, output_train, epochs= 50, batch_size = 1)"
   ]
  },
  {
   "cell_type": "code",
   "execution_count": 75,
   "metadata": {},
   "outputs": [
    {
     "name": "stdout",
     "output_type": "stream",
     "text": [
      "27/27 [==============================] - 0s 4ms/step - loss: 0.3340 - accuracy: 0.8889\n"
     ]
    },
    {
     "data": {
      "text/plain": [
       "[0.3339799642562866, 0.8888888955116272]"
      ]
     },
     "execution_count": 75,
     "metadata": {},
     "output_type": "execute_result"
    }
   ],
   "source": [
    "\n",
    "CNN.evaluate(input_test, output_test, batch_size= 1)\n",
    "\n",
    "\n",
    "\n"
   ]
  },
  {
   "cell_type": "code",
   "execution_count": 76,
   "metadata": {},
   "outputs": [
    {
     "name": "stdout",
     "output_type": "stream",
     "text": [
      "1/1 [==============================] - 0s 138ms/step\n"
     ]
    },
    {
     "data": {
      "text/plain": [
       "array([[2.6934301e-03],\n",
       "       [1.0000000e+00],\n",
       "       [7.4267619e-09],\n",
       "       [1.8650150e-01],\n",
       "       [9.9999946e-01],\n",
       "       [4.7532914e-04],\n",
       "       [6.0492891e-07],\n",
       "       [1.0000000e+00],\n",
       "       [9.9999988e-01],\n",
       "       [8.8666808e-15],\n",
       "       [6.6278074e-07],\n",
       "       [1.0000000e+00],\n",
       "       [1.0000000e+00],\n",
       "       [6.7931043e-09],\n",
       "       [3.4478093e-03],\n",
       "       [9.9962473e-01],\n",
       "       [9.9999899e-01],\n",
       "       [2.8085253e-01],\n",
       "       [1.8613224e-01],\n",
       "       [5.0855637e-01],\n",
       "       [6.0317669e-13],\n",
       "       [9.9999964e-01],\n",
       "       [1.0000000e+00],\n",
       "       [1.6108155e-10],\n",
       "       [1.0000000e+00],\n",
       "       [2.2768204e-03],\n",
       "       [1.0739287e-04]], dtype=float32)"
      ]
     },
     "execution_count": 76,
     "metadata": {},
     "output_type": "execute_result"
    }
   ],
   "source": [
    "predictOnTest = CNN.predict(input_test)\n",
    "predictOnTest"
   ]
  },
  {
   "cell_type": "code",
   "execution_count": 77,
   "metadata": {},
   "outputs": [
    {
     "data": {
      "text/plain": [
       "array([0, 1, 0, 1, 1, 0, 0, 1, 1, 0, 0, 1, 1, 0, 0, 1, 1, 0, 0, 0, 0, 1,\n",
       "       1, 0, 1, 1, 0])"
      ]
     },
     "execution_count": 77,
     "metadata": {},
     "output_type": "execute_result"
    }
   ],
   "source": [
    "output_test"
   ]
  },
  {
   "cell_type": "code",
   "execution_count": 78,
   "metadata": {},
   "outputs": [
    {
     "data": {
      "text/plain": [
       "array([0, 1, 0, 0, 1, 0, 0, 1, 1, 0, 0, 1, 1, 0, 0, 1, 1, 0, 0, 1, 0, 1,\n",
       "       1, 0, 1, 0, 0])"
      ]
     },
     "execution_count": 78,
     "metadata": {},
     "output_type": "execute_result"
    }
   ],
   "source": [
    "classifiedArrayPredict = myClassify(predictOnTest, 0.5)\n",
    "np.array(classifiedArrayPredict)"
   ]
  },
  {
   "cell_type": "code",
   "execution_count": 79,
   "metadata": {},
   "outputs": [
    {
     "data": {
      "text/plain": [
       "['OK',\n",
       " 'OK',\n",
       " 'OK',\n",
       " 'NOK',\n",
       " 'OK',\n",
       " 'OK',\n",
       " 'OK',\n",
       " 'OK',\n",
       " 'OK',\n",
       " 'OK',\n",
       " 'OK',\n",
       " 'OK',\n",
       " 'OK',\n",
       " 'OK',\n",
       " 'OK',\n",
       " 'OK',\n",
       " 'OK',\n",
       " 'OK',\n",
       " 'OK',\n",
       " 'NOK',\n",
       " 'OK',\n",
       " 'OK',\n",
       " 'OK',\n",
       " 'OK',\n",
       " 'OK',\n",
       " 'NOK',\n",
       " 'OK']"
      ]
     },
     "execution_count": 79,
     "metadata": {},
     "output_type": "execute_result"
    }
   ],
   "source": [
    "\n",
    "comparePredictOkNok(classifiedArrayPredict, output_test, output_test.shape[0])"
   ]
  },
  {
   "cell_type": "code",
   "execution_count": 94,
   "metadata": {},
   "outputs": [
    {
     "data": {
      "text/plain": [
       "array([[ 0.23533559,  0.42990232, -0.25082487, -0.15267515,  0.26705414,\n",
       "         0.41497964,  0.27988416,  0.37338895, -0.29958403, -0.04501176],\n",
       "       [ 0.42684212,  0.07528386,  0.28260273, -0.10901958, -0.15239488,\n",
       "         0.44041243,  0.01431945,  0.2730652 ,  0.4608476 ,  0.46495697],\n",
       "       [ 0.45438316,  0.02100177,  0.29724106, -0.24716143, -0.4676595 ,\n",
       "         0.4724816 , -0.3817394 ,  0.19320472,  0.42271256, -0.05679994],\n",
       "       [ 0.15253878, -0.10971248, -0.04070297, -0.21874414, -0.08176634,\n",
       "         0.28545243, -0.43704703,  0.18602677,  0.22525644,  0.47238237],\n",
       "       [-0.46574974, -0.4418646 , -0.38255867, -0.34078255, -0.23755996,\n",
       "         0.2713209 ,  0.27443305, -0.03233695,  0.24816659, -0.28621373],\n",
       "       [ 0.07085161,  0.39532802, -0.03007789, -0.32714292,  0.49284223,\n",
       "         0.18271512, -0.03359003, -0.21458982, -0.42486927,  0.06511235],\n",
       "       [ 0.2713358 , -0.27115414,  0.34532204, -0.23495436, -0.43641958,\n",
       "        -0.3368862 ,  0.12960823,  0.10995054, -0.19554421, -0.07720792],\n",
       "       [-0.04590143,  0.3942591 ,  0.00566856,  0.19669637, -0.06631317,\n",
       "        -0.42244568, -0.06407813, -0.1728232 ,  0.46452302,  0.21050097],\n",
       "       [ 0.08060884,  0.37193573, -0.354489  , -0.44815534, -0.00615418,\n",
       "        -0.2734092 ,  0.00961146,  0.40794468,  0.34805787,  0.3050058 ],\n",
       "       [-0.13335842, -0.24585015, -0.33572006, -0.45683667, -0.01444119,\n",
       "        -0.10833547, -0.05962682, -0.15336625, -0.36658153,  0.31347117],\n",
       "       [-0.19820169, -0.153704  , -0.04638202,  0.4839829 ,  0.26289713,\n",
       "        -0.2991848 ,  0.3665354 ,  0.22821838,  0.07212699, -0.3094584 ],\n",
       "       [-0.00911083,  0.29570737, -0.16099177, -0.26788437,  0.39560342,\n",
       "        -0.16354184, -0.44186142, -0.35942614,  0.35737228,  0.10719667],\n",
       "       [-0.15877792,  0.34966612,  0.01691701, -0.06887166,  0.12856776,\n",
       "        -0.33047417,  0.20484395,  0.02976446, -0.3235725 , -0.22644459],\n",
       "       [ 0.09975111,  0.4164229 , -0.05972092,  0.4724858 ,  0.07625274,\n",
       "        -0.37556273, -0.41675794,  0.1072961 , -0.22256404,  0.07434572],\n",
       "       [-0.33588484, -0.26314247,  0.48928934, -0.42041746,  0.49042416,\n",
       "        -0.07778177,  0.13300411,  0.34206462,  0.41866353,  0.38699016],\n",
       "       [ 0.25059113,  0.18620391,  0.01138588,  0.03915464, -0.4131867 ,\n",
       "        -0.11133797, -0.00348904,  0.08867157, -0.30682206,  0.0675555 ]],\n",
       "      dtype=float32)"
      ]
     },
     "execution_count": 94,
     "metadata": {},
     "output_type": "execute_result"
    }
   ],
   "source": [
    "CNN.layers[0].get_weights()[0][0]"
   ]
  }
 ],
 "metadata": {
  "kernelspec": {
   "display_name": "base",
   "language": "python",
   "name": "python3"
  },
  "language_info": {
   "codemirror_mode": {
    "name": "ipython",
    "version": 3
   },
   "file_extension": ".py",
   "mimetype": "text/x-python",
   "name": "python",
   "nbconvert_exporter": "python",
   "pygments_lexer": "ipython3",
   "version": "3.10.9"
  }
 },
 "nbformat": 4,
 "nbformat_minor": 2
}
